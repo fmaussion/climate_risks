{
 "cells": [
  {
   "cell_type": "code",
   "execution_count": null,
   "id": "0",
   "metadata": {},
   "outputs": [],
   "source": [
    "#Import packages - these are not new\n",
    "import os\n",
    "import xarray as xr\n",
    "import geopandas as gpd\n",
    "import numpy as np\n",
    "import pandas as pd\n",
    "import matplotlib.pyplot as plt"
   ]
  },
  {
   "cell_type": "markdown",
   "id": "1",
   "metadata": {},
   "source": [
    "## Data"
   ]
  },
  {
   "cell_type": "markdown",
   "id": "2",
   "metadata": {},
   "source": [
    "The data provided has been slightly preprocessed to make it easier for you to use. However, if you are interested in the process (or indeed if it is helpful for your dissertation) the preprocessing script is also provided. "
   ]
  },
  {
   "cell_type": "code",
   "execution_count": null,
   "id": "3",
   "metadata": {},
   "outputs": [],
   "source": [
    "#  filepaths\n",
    "wd = \"/Users/uu23343/Library/CloudStorage/Dropbox/Datastore/Gridded/QCR/raw_flood//sfincs/\" # Your working directory. You will need to update."
   ]
  },
  {
   "cell_type": "markdown",
   "id": "4",
   "metadata": {},
   "source": [
    "Note we have 3 flood footprints. We are going to work with the historic for now. The two future projection scenearios are going to be used for your assignment. "
   ]
  },
  {
   "cell_type": "code",
   "execution_count": null,
   "id": "5",
   "metadata": {},
   "outputs": [],
   "source": [
    "#   Select the historic event and examine it.\n",
    "historic = xr.open_dataset(wd + 'epsg_4326_hindcast_sfincs_map.nc')\n",
    "new = historic.drop_vars(['zs', 'time', 'total_runtime', 'average_dt'])\n",
    "new.to_netcdf('../data/flood/sfincs_simulations/hindcast_sfincs_map.nc')"
   ]
  },
  {
   "cell_type": "code",
   "execution_count": null,
   "id": "6",
   "metadata": {},
   "outputs": [],
   "source": [
    "ssp = xr.open_dataset(wd + 'epsg_4326_2080_ssp245_sfincs_map.nc')\n",
    "ssp['zsmax'] = ssp['zsmax'].max(dim='timemax')\n",
    "ssp"
   ]
  },
  {
   "cell_type": "code",
   "execution_count": null,
   "id": "7",
   "metadata": {},
   "outputs": [],
   "source": [
    "ssp = ssp.drop_vars(['zs', 'time', 'total_runtime', 'average_dt', 'timemax'])"
   ]
  },
  {
   "cell_type": "code",
   "execution_count": null,
   "id": "8",
   "metadata": {},
   "outputs": [],
   "source": [
    "ssp.zsmax.plot();"
   ]
  },
  {
   "cell_type": "code",
   "execution_count": null,
   "id": "9",
   "metadata": {},
   "outputs": [],
   "source": [
    "ssp.to_netcdf('../data/flood/sfincs_simulations/2080_ssp245_sfincs_map.nc')"
   ]
  },
  {
   "cell_type": "code",
   "execution_count": null,
   "id": "10",
   "metadata": {},
   "outputs": [],
   "source": [
    "ssp = xr.open_dataset(wd + 'epsg_4326_2080_ssp585_sfincs_map.nc')\n",
    "ssp['zsmax'] = ssp['zsmax'].max(dim='timemax')\n",
    "ssp = ssp.drop_vars(['zs', 'time', 'total_runtime', 'average_dt', 'timemax'])\n",
    "ssp.to_netcdf('../data/flood/sfincs_simulations/2080_ssp585_sfincs_map.nc')"
   ]
  },
  {
   "cell_type": "code",
   "execution_count": null,
   "id": "11",
   "metadata": {},
   "outputs": [],
   "source": []
  }
 ],
 "metadata": {
  "kernelspec": {
   "display_name": "Python 3 (ipykernel)",
   "language": "python",
   "name": "python3"
  },
  "language_info": {
   "codemirror_mode": {
    "name": "ipython",
    "version": 3
   },
   "file_extension": ".py",
   "mimetype": "text/x-python",
   "name": "python",
   "nbconvert_exporter": "python",
   "pygments_lexer": "ipython3",
   "version": "3.12.8"
  }
 },
 "nbformat": 4,
 "nbformat_minor": 5
}
