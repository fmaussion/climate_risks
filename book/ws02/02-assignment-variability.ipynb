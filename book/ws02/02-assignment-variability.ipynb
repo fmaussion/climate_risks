{
 "cells": [
  {
   "cell_type": "markdown",
   "metadata": {},
   "source": [
    "# Assignment: Characterising climate variability"
   ]
  },
  {
   "cell_type": "code",
   "execution_count": null,
   "metadata": {},
   "outputs": [],
   "source": [
    "# Import the tools we are going to need today:\n",
    "import matplotlib.pyplot as plt  # plotting library\n",
    "import numpy as np  # numerical library\n",
    "import xarray as xr  # netCDF library\n",
    "import cartopy  # Map projections libary\n",
    "import cartopy.crs as ccrs  # Projections list\n",
    "# Some defaults:\n",
    "plt.rcParams['figure.figsize'] = (12, 5)  # Default plot size"
   ]
  },
  {
   "cell_type": "markdown",
   "metadata": {},
   "source": [
    "## Temperature variability in ERA5"
   ]
  },
  {
   "cell_type": "markdown",
   "metadata": {},
   "source": [
    "Let's read the temperature and invariant data files from last week:"
   ]
  },
  {
   "cell_type": "code",
   "execution_count": null,
   "metadata": {},
   "outputs": [],
   "source": [
    "ds = xr.open_dataset(r'../data/ERA5_LowRes_Monthly_t2m.nc')\n",
    "ds_inv = xr.open_dataset(r'../data/ERA5_LowRes_Invariant.nc')"
   ]
  },
  {
   "cell_type": "markdown",
   "metadata": {},
   "source": [
    "### Global temperatures: variability over land and oceans"
   ]
  },
  {
   "cell_type": "markdown",
   "metadata": {},
   "source": [
    "Now compute and plot the **annual average** (not monthly) **global temperature in °C**.  \n",
    "This should be a **time series**.  \n",
    "\n",
    "*💡 Tip: we did this in the lesson already — don’t forget the weights!*"
   ]
  },
  {
   "cell_type": "code",
   "execution_count": null,
   "metadata": {},
   "outputs": [],
   "source": [
    "# Your answer here"
   ]
  },
  {
   "cell_type": "markdown",
   "metadata": {},
   "source": [
    "Now compute the **annual global mean temperature** separately for **land** and **ocean** grid points. You can use the land–sea mask (`ds_inv.lsm`, where `1` = land and `0` = sea) to select the appropriate grid cells (see lesson). Plot them on the same plot, with a legend.\n",
    "\n",
    "*💡 Tip: weighting masked data works exactly the same way as weighting unmasked data. You can apply the weights directly to masked fields.*"
   ]
  },
  {
   "cell_type": "code",
   "execution_count": null,
   "metadata": {},
   "outputs": [],
   "source": [
    "# Your answer here"
   ]
  },
  {
   "cell_type": "markdown",
   "metadata": {},
   "source": [
    "Interpret the plot."
   ]
  },
  {
   "cell_type": "code",
   "execution_count": null,
   "metadata": {},
   "outputs": [],
   "source": [
    "# Your answer here"
   ]
  },
  {
   "cell_type": "markdown",
   "metadata": {},
   "source": [
    "Now plot the **temperature anomalies** instead of the absolute temperatures. Use the **1979–1989 period as a reference**, i.e. subtract the mean of those 11 years from each time series (global, land, and ocean). Plot the three **anomaly time series** on the same figure and add a legend.\n",
    "\n",
    "*💡 Tip: plotting anomalies instead of absolute values makes it easier to compare the warming trends over land and ocean, even if their baseline temperatures differ.*"
   ]
  },
  {
   "cell_type": "code",
   "execution_count": null,
   "metadata": {},
   "outputs": [],
   "source": [
    "# Your answer here"
   ]
  },
  {
   "cell_type": "markdown",
   "metadata": {},
   "source": [
    "Interpret the plot."
   ]
  },
  {
   "cell_type": "code",
   "execution_count": null,
   "metadata": {},
   "outputs": [],
   "source": [
    "# Your answer here"
   ]
  },
  {
   "cell_type": "markdown",
   "metadata": {},
   "source": [
    "So far, we’ve looked at long-term warming trends.  \n",
    "Now, try to **remove the trend** from the three anomaly time series (global, land, and ocean) to better highlight **interannual variability**.\n",
    "\n",
    "You can **detrend** a time series in several ways — for example, by:\n",
    "- Fitting and subtracting a **linear regression** (using e.g. `scipy.stats.linregress`, which works well if the trend is linear)\n",
    "- Using a **high-pass filter** or a **rolling mean** to isolate short-term fluctuations\n",
    "\n",
    "⚡ *This was not done in the lesson — you’ll need to do some research or use your favorite GenAI assistant to find the best method and syntax!*\n",
    "\n",
    "*If you can't figure it out, [here](https://gist.github.com/fmaussion/9238785bff9d52a7b6186e10848048f8) is a suggested solution.*\n",
    "\n",
    "Once you’ve detrended the data, plot the results and comment briefly on what remains when the long term trend is removed. To better quantify variability, compute the standard deviation of the detrended time series. Comment."
   ]
  },
  {
   "cell_type": "code",
   "execution_count": null,
   "metadata": {},
   "outputs": [],
   "source": [
    "# Your answer here"
   ]
  },
  {
   "cell_type": "markdown",
   "metadata": {},
   "source": [
    "### Variability in space"
   ]
  },
  {
   "cell_type": "markdown",
   "metadata": {},
   "source": [
    "Now repeat the analysis above, by starting again from the **original dataset temperatures**, and **do not distinguish between land and ocean**.  \n",
    "\n",
    "Compute the **annual mean 2 m temperature** over three increasingly smaller regions of your choice (from global to country level) — for example: **Global**, **Europe**, and **Austria**.  \n",
    "\n",
    "You can achieve this by **selecting subset regions** in your dataset, as demonstrated in the lesson.  \n",
    "Once again, **don’t forget to apply the weights** when computing the averages!"
   ]
  },
  {
   "cell_type": "code",
   "execution_count": null,
   "metadata": {},
   "outputs": [],
   "source": [
    "# Your answer here"
   ]
  },
  {
   "cell_type": "markdown",
   "metadata": {},
   "source": [
    "## Precipitation in ERA5"
   ]
  },
  {
   "cell_type": "markdown",
   "metadata": {},
   "source": [
    "Download the `ERA5_LowRes_Monthly_tp` precipitation file. \n",
    "\n",
    "Open the file with xarray and explore it. The units of monthly precipitation are wrongly labeled (unfortunately). They should read: **m per day**."
   ]
  },
  {
   "cell_type": "code",
   "execution_count": null,
   "metadata": {},
   "outputs": [],
   "source": [
    "ds = xr.open_dataset('../data/ERA5_LowRes_Monthly_tp.nc')\n",
    "ds.tp"
   ]
  },
  {
   "cell_type": "markdown",
   "metadata": {},
   "source": [
    "**Compute the average total annual precipitation (average precipitation over a year, in mm yr$^{-1}$) and store it in a variable called \"annual_prcp\". Plot it.**"
   ]
  },
  {
   "cell_type": "code",
   "execution_count": null,
   "metadata": {},
   "outputs": [],
   "source": [
    "# Your answer here"
   ]
  },
  {
   "cell_type": "markdown",
   "metadata": {},
   "source": [
    "**Draw a new plot of \"annual_prcp\", this time with a new colormap ('YlGnBu') and with the following discrete levels specified: [50, 200, 500, 700, 1000, 1500, 2000, 3000, 5000]. Now have a look at the patterns again.**\n",
    "\n",
    "**Where does it fall more than 3000 mm precipitation a year? Less than 50 mm precipitation a year?** Note that it could be possible to use the \".where()\" function (not taught yet) to highlight these areas easily. Bonus: can you come up with a plot showing these areas on the map?"
   ]
  },
  {
   "cell_type": "code",
   "execution_count": null,
   "metadata": {},
   "outputs": [],
   "source": [
    "# Your answer here"
   ]
  },
  {
   "cell_type": "markdown",
   "metadata": {},
   "source": [
    "**Now plot the average precipitation in January on a map. Do the same with precipitation in July, and choose the same levels for both maps in order to compare them. Discuss the patterns that you see.**"
   ]
  },
  {
   "cell_type": "code",
   "execution_count": null,
   "metadata": {},
   "outputs": [],
   "source": [
    "# Your answer here"
   ]
  },
  {
   "cell_type": "markdown",
   "metadata": {},
   "source": [
    "Now let’s explore **precipitation variability** instead of the mean. **Compute the annual mean precipitation** (in mm yr⁻¹) from your monthly data using `resample` as usual. This gives you one precipitation value per year at each grid cell, i.e. a 3D array of dimensions (time (years), latitude, longitude). Then, calculate the **standard deviation** of these annual means **across all years**. This shows **how much precipitation varies from year to year** at each location.  \n",
    "\n",
    "Plot the resulting map of **precipitation variability (standard deviation)** using a suitable colormap (e.g. `'YlGnBu'`), and label your colorbar (e.g. “mm yr⁻¹”). Don’t forget to add coastlines, gridlines, and a descriptive title.\n",
    "\n",
    "Interpret this map, especially in comparison to the annual mean precipitation map."
   ]
  },
  {
   "cell_type": "code",
   "execution_count": null,
   "metadata": {},
   "outputs": [],
   "source": [
    "# Your answer here"
   ]
  },
  {
   "cell_type": "markdown",
   "metadata": {},
   "source": [
    "**Bonus: Coefficient of Variation (CV)**\n",
    "\n",
    "As a final step, compute the **coefficient of variation (CV)** of annual precipitation.  \n",
    "This older (and somewhat outdated) metric expresses variability **relative to the mean**.\n",
    "\n",
    "1. Use your annual precipitation data from the previous step.\n",
    "2. Compute the CV as:  \n",
    "   \\[\n",
    "   \\text{CV} = \\frac{\\text{standard deviation}}{\\text{mean}}\n",
    "   \\]\n",
    "3. Plot a global map of the CV (no units — it’s a ratio).\n",
    "\n",
    "*💡 Tip:*  \n",
    "- The CV can highlight regions where **precipitation is highly variable relative to the mean**, such as deserts.  \n",
    "- Be careful: dividing by very small means (near-zero precipitation) can produce **extremely large or noisy values**, so you might want to **mask out** those regions (e.g. where mean precipitation < 50 mm yr⁻¹)."
   ]
  },
  {
   "cell_type": "code",
   "execution_count": null,
   "metadata": {},
   "outputs": [],
   "source": [
    "# Your answer here"
   ]
  }
 ],
 "metadata": {
  "hide_input": false,
  "kernelspec": {
   "display_name": "Python 3 (ipykernel)",
   "language": "python",
   "name": "python3"
  },
  "language_info": {
   "codemirror_mode": {
    "name": "ipython",
    "version": 3
   },
   "file_extension": ".py",
   "mimetype": "text/x-python",
   "name": "python",
   "nbconvert_exporter": "python",
   "pygments_lexer": "ipython3",
   "version": "3.12.8"
  },
  "latex_envs": {
   "LaTeX_envs_menu_present": true,
   "autoclose": false,
   "autocomplete": true,
   "bibliofile": "biblio.bib",
   "cite_by": "apalike",
   "current_citInitial": 1,
   "eqLabelWithNumbers": true,
   "eqNumInitial": 1,
   "hotkeys": {
    "equation": "Ctrl-E",
    "itemize": "Ctrl-I"
   },
   "labels_anchors": false,
   "latex_user_defs": false,
   "report_style_numbering": false,
   "user_envs_cfg": false
  },
  "nbTranslate": {
   "displayLangs": [
    "*"
   ],
   "hotkey": "alt-t",
   "langInMainMenu": true,
   "sourceLang": "en",
   "targetLang": "fr",
   "useGoogleTranslate": true
  },
  "toc": {
   "base_numbering": 1,
   "nav_menu": {},
   "number_sections": false,
   "sideBar": true,
   "skip_h1_title": true,
   "title_cell": "Table of Contents",
   "title_sidebar": "Contents",
   "toc_cell": false,
   "toc_position": {},
   "toc_section_display": true,
   "toc_window_display": false
  }
 },
 "nbformat": 4,
 "nbformat_minor": 4
}
